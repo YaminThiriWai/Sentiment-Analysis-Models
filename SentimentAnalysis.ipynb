{
  "cells": [
    {
      "cell_type": "markdown",
      "source": [
        "Sentiment Analysis LSTM"
      ],
      "metadata": {
        "id": "PSFA3UogrxMX"
      }
    },
    {
      "cell_type": "code",
      "source": [
        "import nltk\n",
        "import pandas as pd\n",
        "from textblob import Word\n",
        "from nltk.corpus import stopwords\n",
        "from sklearn.preprocessing import LabelEncoder\n",
        "from sklearn.metrics import classification_report,confusion_matrix,accuracy_score\n",
        "from keras.models import Sequential\n",
        "from keras.preprocessing.text import Tokenizer\n",
        "from keras.preprocessing.sequence import pad_sequences\n",
        "from keras.layers import Dense, Embedding, LSTM, SpatialDropout1D\n",
        "from sklearn.model_selection import train_test_split\n",
        "from sklearn.preprocessing import LabelEncoder\n",
        "from keras.utils import to_categorical"
      ],
      "metadata": {
        "id": "Y56FLrYgrz8N"
      },
      "execution_count": 27,
      "outputs": []
    },
    {
      "cell_type": "code",
      "source": [
        "nltk.download('punkt')\n",
        "nltk.download('stopwords')\n",
        "nltk.download('wordnet')"
      ],
      "metadata": {
        "colab": {
          "base_uri": "https://localhost:8080/"
        },
        "id": "Bq36OLqKs4UR",
        "outputId": "91db4426-f4c3-4ead-e893-a784c6e07a19"
      },
      "execution_count": 18,
      "outputs": [
        {
          "output_type": "stream",
          "name": "stderr",
          "text": [
            "[nltk_data] Downloading package punkt to /root/nltk_data...\n",
            "[nltk_data]   Package punkt is already up-to-date!\n",
            "[nltk_data] Downloading package stopwords to /root/nltk_data...\n",
            "[nltk_data]   Package stopwords is already up-to-date!\n",
            "[nltk_data] Downloading package wordnet to /root/nltk_data...\n",
            "[nltk_data]   Package wordnet is already up-to-date!\n"
          ]
        },
        {
          "output_type": "execute_result",
          "data": {
            "text/plain": [
              "True"
            ]
          },
          "metadata": {},
          "execution_count": 18
        }
      ]
    },
    {
      "cell_type": "code",
      "source": [
        "data = pd.read_csv('/content/data.csv')"
      ],
      "metadata": {
        "id": "lq759atAsaK7"
      },
      "execution_count": 19,
      "outputs": []
    },
    {
      "cell_type": "code",
      "source": [
        "stop_words = stopwords.words('english')\n",
        "data_cleaned = cleaning(data, stop_words)"
      ],
      "metadata": {
        "id": "Gmb-ckM7w0Yr"
      },
      "execution_count": 57,
      "outputs": []
    },
    {
      "cell_type": "code",
      "source": [
        "data_cleaned.head()"
      ],
      "metadata": {
        "colab": {
          "base_uri": "https://localhost:8080/",
          "height": 206
        },
        "id": "9HdEhV-ZsleT",
        "outputId": "205da4aa-4b40-4f25-bccb-65c70e95f4d3"
      },
      "execution_count": 58,
      "outputs": [
        {
          "output_type": "execute_result",
          "data": {
            "text/plain": [
              "                                            Sentence Sentiment\n",
              "0  geosolutions technology leverage benefon 's gp...  positive\n",
              "1         $esi lows, $1.50 $2.50 bk real possibility  negative\n",
              "2  last quarter 2010 , componenta 's net sale oub...  positive\n",
              "3  accoring finnish-russian chamber commerce , ma...   neutral\n",
              "4  sweish buyout firm sol remaining 22.4 percent ...   neutral"
            ],
            "text/html": [
              "\n",
              "  <div id=\"df-1f5cb873-f6b8-4546-8e9e-8298394ac7e6\" class=\"colab-df-container\">\n",
              "    <div>\n",
              "<style scoped>\n",
              "    .dataframe tbody tr th:only-of-type {\n",
              "        vertical-align: middle;\n",
              "    }\n",
              "\n",
              "    .dataframe tbody tr th {\n",
              "        vertical-align: top;\n",
              "    }\n",
              "\n",
              "    .dataframe thead th {\n",
              "        text-align: right;\n",
              "    }\n",
              "</style>\n",
              "<table border=\"1\" class=\"dataframe\">\n",
              "  <thead>\n",
              "    <tr style=\"text-align: right;\">\n",
              "      <th></th>\n",
              "      <th>Sentence</th>\n",
              "      <th>Sentiment</th>\n",
              "    </tr>\n",
              "  </thead>\n",
              "  <tbody>\n",
              "    <tr>\n",
              "      <th>0</th>\n",
              "      <td>geosolutions technology leverage benefon 's gp...</td>\n",
              "      <td>positive</td>\n",
              "    </tr>\n",
              "    <tr>\n",
              "      <th>1</th>\n",
              "      <td>$esi lows, $1.50 $2.50 bk real possibility</td>\n",
              "      <td>negative</td>\n",
              "    </tr>\n",
              "    <tr>\n",
              "      <th>2</th>\n",
              "      <td>last quarter 2010 , componenta 's net sale oub...</td>\n",
              "      <td>positive</td>\n",
              "    </tr>\n",
              "    <tr>\n",
              "      <th>3</th>\n",
              "      <td>accoring finnish-russian chamber commerce , ma...</td>\n",
              "      <td>neutral</td>\n",
              "    </tr>\n",
              "    <tr>\n",
              "      <th>4</th>\n",
              "      <td>sweish buyout firm sol remaining 22.4 percent ...</td>\n",
              "      <td>neutral</td>\n",
              "    </tr>\n",
              "  </tbody>\n",
              "</table>\n",
              "</div>\n",
              "    <div class=\"colab-df-buttons\">\n",
              "\n",
              "  <div class=\"colab-df-container\">\n",
              "    <button class=\"colab-df-convert\" onclick=\"convertToInteractive('df-1f5cb873-f6b8-4546-8e9e-8298394ac7e6')\"\n",
              "            title=\"Convert this dataframe to an interactive table.\"\n",
              "            style=\"display:none;\">\n",
              "\n",
              "  <svg xmlns=\"http://www.w3.org/2000/svg\" height=\"24px\" viewBox=\"0 -960 960 960\">\n",
              "    <path d=\"M120-120v-720h720v720H120Zm60-500h600v-160H180v160Zm220 220h160v-160H400v160Zm0 220h160v-160H400v160ZM180-400h160v-160H180v160Zm440 0h160v-160H620v160ZM180-180h160v-160H180v160Zm440 0h160v-160H620v160Z\"/>\n",
              "  </svg>\n",
              "    </button>\n",
              "\n",
              "  <style>\n",
              "    .colab-df-container {\n",
              "      display:flex;\n",
              "      gap: 12px;\n",
              "    }\n",
              "\n",
              "    .colab-df-convert {\n",
              "      background-color: #E8F0FE;\n",
              "      border: none;\n",
              "      border-radius: 50%;\n",
              "      cursor: pointer;\n",
              "      display: none;\n",
              "      fill: #1967D2;\n",
              "      height: 32px;\n",
              "      padding: 0 0 0 0;\n",
              "      width: 32px;\n",
              "    }\n",
              "\n",
              "    .colab-df-convert:hover {\n",
              "      background-color: #E2EBFA;\n",
              "      box-shadow: 0px 1px 2px rgba(60, 64, 67, 0.3), 0px 1px 3px 1px rgba(60, 64, 67, 0.15);\n",
              "      fill: #174EA6;\n",
              "    }\n",
              "\n",
              "    .colab-df-buttons div {\n",
              "      margin-bottom: 4px;\n",
              "    }\n",
              "\n",
              "    [theme=dark] .colab-df-convert {\n",
              "      background-color: #3B4455;\n",
              "      fill: #D2E3FC;\n",
              "    }\n",
              "\n",
              "    [theme=dark] .colab-df-convert:hover {\n",
              "      background-color: #434B5C;\n",
              "      box-shadow: 0px 1px 3px 1px rgba(0, 0, 0, 0.15);\n",
              "      filter: drop-shadow(0px 1px 2px rgba(0, 0, 0, 0.3));\n",
              "      fill: #FFFFFF;\n",
              "    }\n",
              "  </style>\n",
              "\n",
              "    <script>\n",
              "      const buttonEl =\n",
              "        document.querySelector('#df-1f5cb873-f6b8-4546-8e9e-8298394ac7e6 button.colab-df-convert');\n",
              "      buttonEl.style.display =\n",
              "        google.colab.kernel.accessAllowed ? 'block' : 'none';\n",
              "\n",
              "      async function convertToInteractive(key) {\n",
              "        const element = document.querySelector('#df-1f5cb873-f6b8-4546-8e9e-8298394ac7e6');\n",
              "        const dataTable =\n",
              "          await google.colab.kernel.invokeFunction('convertToInteractive',\n",
              "                                                    [key], {});\n",
              "        if (!dataTable) return;\n",
              "\n",
              "        const docLinkHtml = 'Like what you see? Visit the ' +\n",
              "          '<a target=\"_blank\" href=https://colab.research.google.com/notebooks/data_table.ipynb>data table notebook</a>'\n",
              "          + ' to learn more about interactive tables.';\n",
              "        element.innerHTML = '';\n",
              "        dataTable['output_type'] = 'display_data';\n",
              "        await google.colab.output.renderOutput(dataTable, element);\n",
              "        const docLink = document.createElement('div');\n",
              "        docLink.innerHTML = docLinkHtml;\n",
              "        element.appendChild(docLink);\n",
              "      }\n",
              "    </script>\n",
              "  </div>\n",
              "\n",
              "\n",
              "<div id=\"df-0493e3d4-f97e-43b8-8f11-0046f151de29\">\n",
              "  <button class=\"colab-df-quickchart\" onclick=\"quickchart('df-0493e3d4-f97e-43b8-8f11-0046f151de29')\"\n",
              "            title=\"Suggest charts\"\n",
              "            style=\"display:none;\">\n",
              "\n",
              "<svg xmlns=\"http://www.w3.org/2000/svg\" height=\"24px\"viewBox=\"0 0 24 24\"\n",
              "     width=\"24px\">\n",
              "    <g>\n",
              "        <path d=\"M19 3H5c-1.1 0-2 .9-2 2v14c0 1.1.9 2 2 2h14c1.1 0 2-.9 2-2V5c0-1.1-.9-2-2-2zM9 17H7v-7h2v7zm4 0h-2V7h2v10zm4 0h-2v-4h2v4z\"/>\n",
              "    </g>\n",
              "</svg>\n",
              "  </button>\n",
              "\n",
              "<style>\n",
              "  .colab-df-quickchart {\n",
              "      --bg-color: #E8F0FE;\n",
              "      --fill-color: #1967D2;\n",
              "      --hover-bg-color: #E2EBFA;\n",
              "      --hover-fill-color: #174EA6;\n",
              "      --disabled-fill-color: #AAA;\n",
              "      --disabled-bg-color: #DDD;\n",
              "  }\n",
              "\n",
              "  [theme=dark] .colab-df-quickchart {\n",
              "      --bg-color: #3B4455;\n",
              "      --fill-color: #D2E3FC;\n",
              "      --hover-bg-color: #434B5C;\n",
              "      --hover-fill-color: #FFFFFF;\n",
              "      --disabled-bg-color: #3B4455;\n",
              "      --disabled-fill-color: #666;\n",
              "  }\n",
              "\n",
              "  .colab-df-quickchart {\n",
              "    background-color: var(--bg-color);\n",
              "    border: none;\n",
              "    border-radius: 50%;\n",
              "    cursor: pointer;\n",
              "    display: none;\n",
              "    fill: var(--fill-color);\n",
              "    height: 32px;\n",
              "    padding: 0;\n",
              "    width: 32px;\n",
              "  }\n",
              "\n",
              "  .colab-df-quickchart:hover {\n",
              "    background-color: var(--hover-bg-color);\n",
              "    box-shadow: 0 1px 2px rgba(60, 64, 67, 0.3), 0 1px 3px 1px rgba(60, 64, 67, 0.15);\n",
              "    fill: var(--button-hover-fill-color);\n",
              "  }\n",
              "\n",
              "  .colab-df-quickchart-complete:disabled,\n",
              "  .colab-df-quickchart-complete:disabled:hover {\n",
              "    background-color: var(--disabled-bg-color);\n",
              "    fill: var(--disabled-fill-color);\n",
              "    box-shadow: none;\n",
              "  }\n",
              "\n",
              "  .colab-df-spinner {\n",
              "    border: 2px solid var(--fill-color);\n",
              "    border-color: transparent;\n",
              "    border-bottom-color: var(--fill-color);\n",
              "    animation:\n",
              "      spin 1s steps(1) infinite;\n",
              "  }\n",
              "\n",
              "  @keyframes spin {\n",
              "    0% {\n",
              "      border-color: transparent;\n",
              "      border-bottom-color: var(--fill-color);\n",
              "      border-left-color: var(--fill-color);\n",
              "    }\n",
              "    20% {\n",
              "      border-color: transparent;\n",
              "      border-left-color: var(--fill-color);\n",
              "      border-top-color: var(--fill-color);\n",
              "    }\n",
              "    30% {\n",
              "      border-color: transparent;\n",
              "      border-left-color: var(--fill-color);\n",
              "      border-top-color: var(--fill-color);\n",
              "      border-right-color: var(--fill-color);\n",
              "    }\n",
              "    40% {\n",
              "      border-color: transparent;\n",
              "      border-right-color: var(--fill-color);\n",
              "      border-top-color: var(--fill-color);\n",
              "    }\n",
              "    60% {\n",
              "      border-color: transparent;\n",
              "      border-right-color: var(--fill-color);\n",
              "    }\n",
              "    80% {\n",
              "      border-color: transparent;\n",
              "      border-right-color: var(--fill-color);\n",
              "      border-bottom-color: var(--fill-color);\n",
              "    }\n",
              "    90% {\n",
              "      border-color: transparent;\n",
              "      border-bottom-color: var(--fill-color);\n",
              "    }\n",
              "  }\n",
              "</style>\n",
              "\n",
              "  <script>\n",
              "    async function quickchart(key) {\n",
              "      const quickchartButtonEl =\n",
              "        document.querySelector('#' + key + ' button');\n",
              "      quickchartButtonEl.disabled = true;  // To prevent multiple clicks.\n",
              "      quickchartButtonEl.classList.add('colab-df-spinner');\n",
              "      try {\n",
              "        const charts = await google.colab.kernel.invokeFunction(\n",
              "            'suggestCharts', [key], {});\n",
              "      } catch (error) {\n",
              "        console.error('Error during call to suggestCharts:', error);\n",
              "      }\n",
              "      quickchartButtonEl.classList.remove('colab-df-spinner');\n",
              "      quickchartButtonEl.classList.add('colab-df-quickchart-complete');\n",
              "    }\n",
              "    (() => {\n",
              "      let quickchartButtonEl =\n",
              "        document.querySelector('#df-0493e3d4-f97e-43b8-8f11-0046f151de29 button');\n",
              "      quickchartButtonEl.style.display =\n",
              "        google.colab.kernel.accessAllowed ? 'block' : 'none';\n",
              "    })();\n",
              "  </script>\n",
              "</div>\n",
              "    </div>\n",
              "  </div>\n"
            ],
            "application/vnd.google.colaboratory.intrinsic+json": {
              "type": "dataframe",
              "variable_name": "data_cleaned",
              "summary": "{\n  \"name\": \"data_cleaned\",\n  \"rows\": 5842,\n  \"fields\": [\n    {\n      \"column\": \"Sentence\",\n      \"properties\": {\n        \"dtype\": \"string\",\n        \"num_unique_values\": 5316,\n        \"samples\": [\n          \"company split two part coming month , essent owning operating prouction supply , enexis owning operating gri .\",\n          \"facility lettable area 19,000 sq m. plot plant , locate ratasmaki business park , purchase city forssa .\",\n          \"value orers han totale eur 237.1 mn .\"\n        ],\n        \"semantic_type\": \"\",\n        \"description\": \"\"\n      }\n    },\n    {\n      \"column\": \"Sentiment\",\n      \"properties\": {\n        \"dtype\": \"category\",\n        \"num_unique_values\": 3,\n        \"samples\": [\n          \"positive\",\n          \"negative\",\n          \"neutral\"\n        ],\n        \"semantic_type\": \"\",\n        \"description\": \"\"\n      }\n    }\n  ]\n}"
            }
          },
          "metadata": {},
          "execution_count": 58
        }
      ]
    },
    {
      "cell_type": "code",
      "source": [
        "def cleaning(df, stop_words):\n",
        "    df['Sentence'] = df['Sentence'].apply(lambda x: ' '.join(x.lower() for x in x.split()))\n",
        "\n",
        "    df['Sentence'] = df['Sentence'].str.replace('d', '')\n",
        "\n",
        "    df['Sentence'] = df['Sentence'].apply(lambda x: ' '.join(x for x in x.split() if x not in stop_words))\n",
        "\n",
        "    df['Sentence'] = df['Sentence'].apply(lambda x: ' '.join([Word(x).lemmatize() for x in x.split()]))\n",
        "    return df"
      ],
      "metadata": {
        "id": "C8NOb8lhseD3"
      },
      "execution_count": 59,
      "outputs": []
    },
    {
      "cell_type": "code",
      "source": [
        "tokenizer = Tokenizer(num_words=500, split=' ')\n",
        "tokenizer.fit_on_texts(data_cleaned['Sentence'].values)\n",
        "X = tokenizer.texts_to_sequences(data_cleaned['Sentence'].values)\n",
        "X = pad_sequences(X)"
      ],
      "metadata": {
        "id": "kYWF3FNDsjsz"
      },
      "execution_count": 60,
      "outputs": []
    },
    {
      "cell_type": "code",
      "source": [
        "model = Sequential()\n",
        "model.add(Embedding(500, 120, input_length=X.shape[1]))\n",
        "model.add(SpatialDropout1D(0.4))\n",
        "model.add(LSTM(704, dropout=0.2, recurrent_dropout=0.2))\n",
        "model.add(Dense(352, activation='LeakyReLU'))\n",
        "model.add(Dense(3, activation='softmax'))\n",
        "model.compile(loss='categorical_crossentropy', optimizer='adam', metrics=['accuracy'])\n",
        "print(model.summary())"
      ],
      "metadata": {
        "colab": {
          "base_uri": "https://localhost:8080/"
        },
        "id": "7wLd3ajGsqsy",
        "outputId": "fa6cde4f-c0df-4311-822d-638ec0eaab55"
      },
      "execution_count": 61,
      "outputs": [
        {
          "output_type": "stream",
          "name": "stdout",
          "text": [
            "Model: \"sequential_3\"\n",
            "_________________________________________________________________\n",
            " Layer (type)                Output Shape              Param #   \n",
            "=================================================================\n",
            " embedding_3 (Embedding)     (None, 51, 120)           60000     \n",
            "                                                                 \n",
            " spatial_dropout1d_3 (Spati  (None, 51, 120)           0         \n",
            " alDropout1D)                                                    \n",
            "                                                                 \n",
            " lstm_3 (LSTM)               (None, 704)               2323200   \n",
            "                                                                 \n",
            " dense_6 (Dense)             (None, 352)               248160    \n",
            "                                                                 \n",
            " dense_7 (Dense)             (None, 3)                 1059      \n",
            "                                                                 \n",
            "=================================================================\n",
            "Total params: 2632419 (10.04 MB)\n",
            "Trainable params: 2632419 (10.04 MB)\n",
            "Non-trainable params: 0 (0.00 Byte)\n",
            "_________________________________________________________________\n",
            "None\n"
          ]
        }
      ]
    },
    {
      "cell_type": "code",
      "source": [
        "label_encoder = LabelEncoder()\n",
        "y_encoded = label_encoder.fit_transform(data_cleaned['Sentiment'])"
      ],
      "metadata": {
        "id": "Yw_O8DH0xhmu"
      },
      "execution_count": 62,
      "outputs": []
    },
    {
      "cell_type": "code",
      "source": [
        "num_classes = len(label_encoder.classes_)\n",
        "y_onehot = to_categorical(y_encoded, num_classes=num_classes)"
      ],
      "metadata": {
        "id": "sUq0IvcrxlDI"
      },
      "execution_count": 63,
      "outputs": []
    },
    {
      "cell_type": "code",
      "source": [
        "X_train, X_test, y_train_onehot, y_test_onehot = train_test_split(X, y_onehot, test_size=0.2, random_state=42)"
      ],
      "metadata": {
        "id": "oiL8Mvljv7_F"
      },
      "execution_count": 64,
      "outputs": []
    },
    {
      "cell_type": "code",
      "source": [
        "model.fit(X_train, y_train_onehot, epochs=10, batch_size=32, verbose=1)"
      ],
      "metadata": {
        "colab": {
          "base_uri": "https://localhost:8080/"
        },
        "id": "0RkSoryEwBFy",
        "outputId": "91afe7a4-e9d9-479b-d62f-528cdff21ba0"
      },
      "execution_count": 65,
      "outputs": [
        {
          "output_type": "stream",
          "name": "stdout",
          "text": [
            "Epoch 1/10\n",
            "147/147 [==============================] - 318s 2s/step - loss: 0.9326 - accuracy: 0.5707\n",
            "Epoch 2/10\n",
            "147/147 [==============================] - 297s 2s/step - loss: 0.7952 - accuracy: 0.6431\n",
            "Epoch 3/10\n",
            "147/147 [==============================] - 293s 2s/step - loss: 0.7147 - accuracy: 0.6865\n",
            "Epoch 4/10\n",
            "147/147 [==============================] - 316s 2s/step - loss: 0.6790 - accuracy: 0.6955\n",
            "Epoch 5/10\n",
            "147/147 [==============================] - 317s 2s/step - loss: 0.6518 - accuracy: 0.7098\n",
            "Epoch 6/10\n",
            "147/147 [==============================] - 314s 2s/step - loss: 0.6195 - accuracy: 0.7130\n",
            "Epoch 7/10\n",
            "147/147 [==============================] - 303s 2s/step - loss: 0.6031 - accuracy: 0.7239\n",
            "Epoch 8/10\n",
            "147/147 [==============================] - 289s 2s/step - loss: 0.5905 - accuracy: 0.7289\n",
            "Epoch 9/10\n",
            "147/147 [==============================] - 290s 2s/step - loss: 0.5669 - accuracy: 0.7391\n",
            "Epoch 10/10\n",
            "147/147 [==============================] - 288s 2s/step - loss: 0.5495 - accuracy: 0.7449\n"
          ]
        },
        {
          "output_type": "execute_result",
          "data": {
            "text/plain": [
              "<keras.src.callbacks.History at 0x7e3bd5ca35e0>"
            ]
          },
          "metadata": {},
          "execution_count": 65
        }
      ]
    },
    {
      "cell_type": "code",
      "source": [
        "test_loss, test_accuracy = model.evaluate(X_test, y_test_onehot)\n",
        "print(f'Test Loss: {test_loss}')\n",
        "print(f'Test Accuracy: {test_accuracy}')"
      ],
      "metadata": {
        "colab": {
          "base_uri": "https://localhost:8080/"
        },
        "id": "Lg9Y8SiVs-8-",
        "outputId": "011f9107-b1d7-4d8c-cebf-9d858270ee1a"
      },
      "execution_count": 66,
      "outputs": [
        {
          "output_type": "stream",
          "name": "stdout",
          "text": [
            "37/37 [==============================] - 13s 352ms/step - loss: 0.8612 - accuracy: 0.6476\n",
            "Test Loss: 0.8612058162689209\n",
            "Test Accuracy: 0.6475620269775391\n"
          ]
        }
      ]
    },
    {
      "cell_type": "markdown",
      "source": [
        "Programming for sentiment analysis problem:\n",
        "Given a text, classify it into categories: positive, negative, neutral.\n",
        "Requirements:\n",
        "1) Use different text representations: binary mode, count mode, tf.idf mode.\n",
        "2) Use 1-gram and 2-gram features\n",
        "3) Use different machine learning methods: SVM, logistic regression, Decision Tree, Random Forest\n",
        "\n",
        "There are many datasets on the Internet that can be used.\n",
        "Can work on Vietnamese or English data"
      ],
      "metadata": {
        "id": "EzSQQpJjrKuB"
      }
    },
    {
      "cell_type": "code",
      "source": [
        "import pandas as pd\n",
        "import numpy as np\n",
        "from nltk.corpus import stopwords\n",
        "from textblob import Word\n",
        "from sklearn.feature_extraction.text import CountVectorizer, TfidfVectorizer\n",
        "from sklearn.model_selection import train_test_split\n",
        "from sklearn.preprocessing import LabelEncoder\n",
        "from sklearn.metrics import classification_report, confusion_matrix, accuracy_score\n",
        "from sklearn.linear_model import LogisticRegression\n",
        "from sklearn.svm import SVC\n",
        "from sklearn.tree import DecisionTreeClassifier\n",
        "from sklearn.ensemble import RandomForestClassifier\n",
        "from nltk import download\n",
        "from nltk import word_tokenize"
      ],
      "metadata": {
        "id": "wDbh6iLQvEhr"
      },
      "execution_count": 74,
      "outputs": []
    },
    {
      "cell_type": "code",
      "source": [
        "download('punkt')\n",
        "download('stopwords')\n",
        "download('wordnet')"
      ],
      "metadata": {
        "colab": {
          "base_uri": "https://localhost:8080/"
        },
        "id": "pxhNmuTnBrwh",
        "outputId": "d717a9fb-9044-4a11-c1d9-f6e121edee12"
      },
      "execution_count": 68,
      "outputs": [
        {
          "output_type": "stream",
          "name": "stderr",
          "text": [
            "[nltk_data] Downloading package punkt to /root/nltk_data...\n",
            "[nltk_data]   Package punkt is already up-to-date!\n",
            "[nltk_data] Downloading package stopwords to /root/nltk_data...\n",
            "[nltk_data]   Package stopwords is already up-to-date!\n",
            "[nltk_data] Downloading package wordnet to /root/nltk_data...\n",
            "[nltk_data]   Package wordnet is already up-to-date!\n"
          ]
        },
        {
          "output_type": "execute_result",
          "data": {
            "text/plain": [
              "True"
            ]
          },
          "metadata": {},
          "execution_count": 68
        }
      ]
    },
    {
      "cell_type": "code",
      "source": [
        "data = pd.read_csv('/content/data.csv')\n"
      ],
      "metadata": {
        "id": "2PvuVbSpB1xo"
      },
      "execution_count": 69,
      "outputs": []
    },
    {
      "cell_type": "code",
      "source": [
        "def cleaning(df):\n",
        "    stop_words = set(stopwords.words('english'))\n",
        "    df['cleaned'] = df['Sentence'].apply(lambda x: ' '.join(x.lower() for x in x.split()))\n",
        "    df['cleaned'] = df['cleaned'].str.replace('\\d+', '')\n",
        "    df['cleaned'] = df['cleaned'].apply(lambda x: ' '.join(x for x in x.split() if x not in stop_words))\n",
        "    df['cleaned'] = df['cleaned'].apply(lambda x: ' '.join([Word(word).lemmatize() for word in word_tokenize(x)]))\n",
        "    return df\n",
        "\n",
        "data_cleaned = cleaning(data)\n"
      ],
      "metadata": {
        "colab": {
          "base_uri": "https://localhost:8080/"
        },
        "id": "9-RozO35B5R0",
        "outputId": "eeb963c9-da7c-40d8-9394-4822fc051644"
      },
      "execution_count": 70,
      "outputs": [
        {
          "output_type": "stream",
          "name": "stderr",
          "text": [
            "<ipython-input-70-2f2c3e92de2f>:5: FutureWarning: The default value of regex will change from True to False in a future version.\n",
            "  df['cleaned'] = df['cleaned'].str.replace('\\d+', '')\n"
          ]
        }
      ]
    },
    {
      "cell_type": "code",
      "source": [
        "# Vectorization\n",
        "vectorizers = {\n",
        "    'Binary': CountVectorizer(binary=True, ngram_range=(1, 2)),\n",
        "    'Count': CountVectorizer(ngram_range=(1, 2)),\n",
        "    'TF-IDF': TfidfVectorizer(ngram_range=(1, 2))\n",
        "}\n"
      ],
      "metadata": {
        "id": "wDh500XvB8OS"
      },
      "execution_count": 75,
      "outputs": []
    },
    {
      "cell_type": "code",
      "source": [
        "# Models\n",
        "models = {\n",
        "    'Logistic Regression': LogisticRegression(max_iter=100),\n",
        "    'SVM': SVC(),\n",
        "    'Decision Tree': DecisionTreeClassifier(),\n",
        "    'Random Forest': RandomForestClassifier()\n",
        "}\n"
      ],
      "metadata": {
        "id": "e_8InlIaCABR"
      },
      "execution_count": 71,
      "outputs": []
    },
    {
      "cell_type": "code",
      "source": [
        "label_encoder = LabelEncoder()\n",
        "y_encoded = label_encoder.fit_transform(data_cleaned['Sentiment'])\n"
      ],
      "metadata": {
        "id": "8I65Qj-_CCJP"
      },
      "execution_count": 72,
      "outputs": []
    },
    {
      "cell_type": "code",
      "source": [
        "for name, vectorizer in vectorizers.items():\n",
        "    X_vectorized = vectorizer.fit_transform(data_cleaned['cleaned']).toarray()\n",
        "\n",
        "\n",
        "    X_train, X_test, y_train, y_test = train_test_split(X_vectorized, y_encoded, test_size=0.2, random_state=42)\n",
        "\n",
        "    print(f\"Using {name} Vectorization\\n\")\n",
        "\n",
        "    for model_name, model in models.items():\n",
        "        model.fit(X_train, y_train)\n",
        "        predictions = model.predict(X_test)\n",
        "\n",
        "        print(f\"{model_name} Classification Report:\")\n",
        "        print(classification_report(y_test, predictions))\n",
        "        print(\"Confusion Matrix:\")\n",
        "        print(confusion_matrix(y_test, predictions))\n",
        "        print(f\"Accuracy: {accuracy_score(y_test, predictions)}\\n\")"
      ],
      "metadata": {
        "colab": {
          "base_uri": "https://localhost:8080/"
        },
        "id": "OLGHTWieCFMF",
        "outputId": "dca371cc-bc27-4c32-c33f-30cb309c112a"
      },
      "execution_count": null,
      "outputs": [
        {
          "output_type": "stream",
          "name": "stdout",
          "text": [
            "Using Binary Vectorization\n",
            "\n"
          ]
        },
        {
          "output_type": "stream",
          "name": "stderr",
          "text": [
            "/usr/local/lib/python3.10/dist-packages/sklearn/linear_model/_logistic.py:458: ConvergenceWarning: lbfgs failed to converge (status=1):\n",
            "STOP: TOTAL NO. of ITERATIONS REACHED LIMIT.\n",
            "\n",
            "Increase the number of iterations (max_iter) or scale the data as shown in:\n",
            "    https://scikit-learn.org/stable/modules/preprocessing.html\n",
            "Please also refer to the documentation for alternative solver options:\n",
            "    https://scikit-learn.org/stable/modules/linear_model.html#logistic-regression\n",
            "  n_iter_i = _check_optimize_result(\n"
          ]
        },
        {
          "output_type": "stream",
          "name": "stdout",
          "text": [
            "Logistic Regression Classification Report:\n",
            "              precision    recall  f1-score   support\n",
            "\n",
            "           0       0.27      0.18      0.21       175\n",
            "           1       0.70      0.82      0.76       622\n",
            "           2       0.78      0.68      0.73       372\n",
            "\n",
            "    accuracy                           0.68      1169\n",
            "   macro avg       0.58      0.56      0.57      1169\n",
            "weighted avg       0.66      0.68      0.67      1169\n",
            "\n",
            "Confusion Matrix:\n",
            "[[ 31 107  37]\n",
            " [ 77 512  33]\n",
            " [  7 113 252]]\n",
            "Accuracy: 0.6800684345594525\n",
            "\n",
            "SVM Classification Report:\n",
            "              precision    recall  f1-score   support\n",
            "\n",
            "           0       0.22      0.05      0.08       175\n",
            "           1       0.64      0.94      0.76       622\n",
            "           2       0.81      0.49      0.61       372\n",
            "\n",
            "    accuracy                           0.66      1169\n",
            "   macro avg       0.56      0.49      0.48      1169\n",
            "weighted avg       0.63      0.66      0.61      1169\n",
            "\n",
            "Confusion Matrix:\n",
            "[[  8 134  33]\n",
            " [ 28 583  11]\n",
            " [  0 190 182]]\n",
            "Accuracy: 0.6612489307100086\n",
            "\n",
            "Decision Tree Classification Report:\n",
            "              precision    recall  f1-score   support\n",
            "\n",
            "           0       0.24      0.22      0.23       175\n",
            "           1       0.70      0.73      0.71       622\n",
            "           2       0.70      0.68      0.69       372\n",
            "\n",
            "    accuracy                           0.64      1169\n",
            "   macro avg       0.55      0.54      0.54      1169\n",
            "weighted avg       0.63      0.64      0.63      1169\n",
            "\n",
            "Confusion Matrix:\n",
            "[[ 39 100  36]\n",
            " [100 451  71]\n",
            " [ 22  97 253]]\n",
            "Accuracy: 0.6355859709153122\n",
            "\n",
            "Random Forest Classification Report:\n",
            "              precision    recall  f1-score   support\n",
            "\n",
            "           0       0.16      0.09      0.11       175\n",
            "           1       0.65      0.84      0.74       622\n",
            "           2       0.77      0.56      0.65       372\n",
            "\n",
            "    accuracy                           0.64      1169\n",
            "   macro avg       0.53      0.50      0.50      1169\n",
            "weighted avg       0.62      0.64      0.61      1169\n",
            "\n",
            "Confusion Matrix:\n",
            "[[ 15 121  39]\n",
            " [ 73 525  24]\n",
            " [  4 160 208]]\n",
            "Accuracy: 0.6398631308810949\n",
            "\n",
            "Using Count Vectorization\n",
            "\n"
          ]
        },
        {
          "output_type": "stream",
          "name": "stderr",
          "text": [
            "/usr/local/lib/python3.10/dist-packages/sklearn/linear_model/_logistic.py:458: ConvergenceWarning: lbfgs failed to converge (status=1):\n",
            "STOP: TOTAL NO. of ITERATIONS REACHED LIMIT.\n",
            "\n",
            "Increase the number of iterations (max_iter) or scale the data as shown in:\n",
            "    https://scikit-learn.org/stable/modules/preprocessing.html\n",
            "Please also refer to the documentation for alternative solver options:\n",
            "    https://scikit-learn.org/stable/modules/linear_model.html#logistic-regression\n",
            "  n_iter_i = _check_optimize_result(\n"
          ]
        },
        {
          "output_type": "stream",
          "name": "stdout",
          "text": [
            "Logistic Regression Classification Report:\n",
            "              precision    recall  f1-score   support\n",
            "\n",
            "           0       0.27      0.17      0.21       175\n",
            "           1       0.70      0.82      0.75       622\n",
            "           2       0.78      0.68      0.72       372\n",
            "\n",
            "    accuracy                           0.68      1169\n",
            "   macro avg       0.58      0.56      0.56      1169\n",
            "weighted avg       0.66      0.68      0.66      1169\n",
            "\n",
            "Confusion Matrix:\n",
            "[[ 30 108  37]\n",
            " [ 75 511  36]\n",
            " [  7 113 252]]\n",
            "Accuracy: 0.6783575705731394\n",
            "\n",
            "SVM Classification Report:\n",
            "              precision    recall  f1-score   support\n",
            "\n",
            "           0       0.26      0.05      0.09       175\n",
            "           1       0.64      0.94      0.76       622\n",
            "           2       0.80      0.47      0.59       372\n",
            "\n",
            "    accuracy                           0.66      1169\n",
            "   macro avg       0.57      0.49      0.48      1169\n",
            "weighted avg       0.63      0.66      0.61      1169\n",
            "\n",
            "Confusion Matrix:\n",
            "[[  9 132  34]\n",
            " [ 25 586  11]\n",
            " [  0 196 176]]\n",
            "Accuracy: 0.6595380667236954\n",
            "\n",
            "Decision Tree Classification Report:\n",
            "              precision    recall  f1-score   support\n",
            "\n",
            "           0       0.27      0.27      0.27       175\n",
            "           1       0.71      0.72      0.71       622\n",
            "           2       0.70      0.68      0.69       372\n",
            "\n",
            "    accuracy                           0.64      1169\n",
            "   macro avg       0.56      0.56      0.56      1169\n",
            "weighted avg       0.64      0.64      0.64      1169\n",
            "\n",
            "Confusion Matrix:\n",
            "[[ 48  92  35]\n",
            " [102 446  74]\n",
            " [ 28  91 253]]\n",
            "Accuracy: 0.6390076988879384\n",
            "\n",
            "Random Forest Classification Report:\n",
            "              precision    recall  f1-score   support\n",
            "\n",
            "           0       0.19      0.10      0.13       175\n",
            "           1       0.66      0.85      0.74       622\n",
            "           2       0.79      0.57      0.66       372\n",
            "\n",
            "    accuracy                           0.65      1169\n",
            "   macro avg       0.54      0.51      0.51      1169\n",
            "weighted avg       0.63      0.65      0.62      1169\n",
            "\n",
            "Confusion Matrix:\n",
            "[[ 18 123  34]\n",
            " [ 73 526  23]\n",
            " [  6 153 213]]\n",
            "Accuracy: 0.6475620188195038\n",
            "\n",
            "Using TF-IDF Vectorization\n",
            "\n",
            "Logistic Regression Classification Report:\n",
            "              precision    recall  f1-score   support\n",
            "\n",
            "           0       0.33      0.06      0.10       175\n",
            "           1       0.66      0.94      0.77       622\n",
            "           2       0.77      0.52      0.62       372\n",
            "\n",
            "    accuracy                           0.67      1169\n",
            "   macro avg       0.59      0.51      0.50      1169\n",
            "weighted avg       0.65      0.67      0.62      1169\n",
            "\n",
            "Confusion Matrix:\n",
            "[[ 10 128  37]\n",
            " [ 20 582  20]\n",
            " [  0 177 195]]\n",
            "Accuracy: 0.6732249786142002\n",
            "\n"
          ]
        }
      ]
    },
    {
      "cell_type": "code",
      "source": [],
      "metadata": {
        "id": "ZxXH3ttOCJPf"
      },
      "execution_count": null,
      "outputs": []
    }
  ],
  "metadata": {
    "colab": {
      "provenance": []
    },
    "kernelspec": {
      "display_name": "Python 3",
      "name": "python3"
    },
    "language_info": {
      "name": "python"
    }
  },
  "nbformat": 4,
  "nbformat_minor": 0
}